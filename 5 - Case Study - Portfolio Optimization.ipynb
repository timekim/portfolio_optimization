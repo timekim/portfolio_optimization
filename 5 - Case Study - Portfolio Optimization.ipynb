{
 "cells": [
  {
   "cell_type": "markdown",
   "id": "2d9df0ff",
   "metadata": {},
   "source": [
    "# Case Study - Portfolio Optimization\n",
    "In this case study, we will build two $10,000 investment portfolios containing four stocks. The first portfolio will have an equal weighting between the stocks. The second portfolio will be optimized with a weighting allocation that provides the best return, adjusted for risk. To build these two portfolios, we will:\n",
    "1. Import two years of data for four stocks\n",
    "2. Build the initial portfolio with equal weighting to each of the stocks\n",
    "3. Analyze and visualize the equal-weighted portfolio\n",
    "4. Generate 10,000 portfolio scenarios with random weighting to each of the stocks\n",
    "5. Identify the optimal portfolio from the scenarios and visualize the results"
   ]
  },
  {
   "cell_type": "markdown",
   "id": "720791ef",
   "metadata": {},
   "source": [
    "## Import Packages & Connect to Data"
   ]
  },
  {
   "cell_type": "code",
   "execution_count": 1,
   "id": "9187de70",
   "metadata": {},
   "outputs": [],
   "source": [
    "# Import packages needed for case study\n",
    "import pandas as pd\n",
    "import numpy as np\n",
    "import pandas_datareader as pdr\n",
    "import matplotlib.pyplot as plt\n",
    "%matplotlib inline"
   ]
  },
  {
   "cell_type": "code",
   "execution_count": 15,
   "id": "2c4a1b1c",
   "metadata": {},
   "outputs": [],
   "source": [
    "import seaborn as sns"
   ]
  },
  {
   "cell_type": "code",
   "execution_count": 3,
   "id": "5792b948",
   "metadata": {},
   "outputs": [],
   "source": [
    "# Set start and end date parameters\n",
    "startdate = '2019-01-01' \n",
    "enddate = '2021-12-31'\n",
    "\n",
    "# List the four stock ticker symbols for our portfolio\n",
    "stocklist = ['AMD', 'AAPL', 'MSFT', 'ORCL']\n",
    "\n",
    "# Create an empty dictionary to store our stock info\n",
    "stocks = {}\n",
    "\n",
    "# Loop through each stock in the stock_list and return the Adj Close\n",
    "for i_stock in stocklist:\n",
    "    stocks[i_stock] = pdr.DataReader(i_stock, 'yahoo', startdate, enddate)[['Adj Close']]"
   ]
  },
  {
   "cell_type": "code",
   "execution_count": 7,
   "id": "f3619470",
   "metadata": {},
   "outputs": [
    {
     "data": {
      "text/html": [
       "<div>\n",
       "<style scoped>\n",
       "    .dataframe tbody tr th:only-of-type {\n",
       "        vertical-align: middle;\n",
       "    }\n",
       "\n",
       "    .dataframe tbody tr th {\n",
       "        vertical-align: top;\n",
       "    }\n",
       "\n",
       "    .dataframe thead th {\n",
       "        text-align: right;\n",
       "    }\n",
       "</style>\n",
       "<table border=\"1\" class=\"dataframe\">\n",
       "  <thead>\n",
       "    <tr style=\"text-align: right;\">\n",
       "      <th></th>\n",
       "      <th>Adj Close</th>\n",
       "    </tr>\n",
       "    <tr>\n",
       "      <th>Date</th>\n",
       "      <th></th>\n",
       "    </tr>\n",
       "  </thead>\n",
       "  <tbody>\n",
       "    <tr>\n",
       "      <th>2019-01-02</th>\n",
       "      <td>18.830000</td>\n",
       "    </tr>\n",
       "    <tr>\n",
       "      <th>2019-01-03</th>\n",
       "      <td>17.049999</td>\n",
       "    </tr>\n",
       "    <tr>\n",
       "      <th>2019-01-04</th>\n",
       "      <td>19.000000</td>\n",
       "    </tr>\n",
       "    <tr>\n",
       "      <th>2019-01-07</th>\n",
       "      <td>20.570000</td>\n",
       "    </tr>\n",
       "    <tr>\n",
       "      <th>2019-01-08</th>\n",
       "      <td>20.750000</td>\n",
       "    </tr>\n",
       "  </tbody>\n",
       "</table>\n",
       "</div>"
      ],
      "text/plain": [
       "            Adj Close\n",
       "Date                 \n",
       "2019-01-02  18.830000\n",
       "2019-01-03  17.049999\n",
       "2019-01-04  19.000000\n",
       "2019-01-07  20.570000\n",
       "2019-01-08  20.750000"
      ]
     },
     "execution_count": 7,
     "metadata": {},
     "output_type": "execute_result"
    }
   ],
   "source": [
    "# Examine the 'AMD' Adj Close from the stocks dictionary\n",
    "stocks['AMD'].head()\n"
   ]
  },
  {
   "cell_type": "markdown",
   "id": "2733fc05",
   "metadata": {},
   "source": [
    "## Create the Equal-Weighted Portfolio\n",
    "To create the equal-weighted portfolio, we need to add some additional columns to the DataFrames in the `stocks` dictionary. The three columns that we will build are:\n",
    "* Normalized Return = Adjusted Close / Adjusted Close on the `startdate` of the portfolio\n",
    "* Allocation = Normalized Return * 0.25 (equal weighting for each of the four stocks)\n",
    "* Position Value = Allocation * 10,000 (value of the portfolio)"
   ]
  },
  {
   "cell_type": "code",
   "execution_count": 8,
   "id": "3f5388a1",
   "metadata": {},
   "outputs": [],
   "source": [
    "# Create 'Normalized Return' column for each stock\n",
    "\n",
    "for stock_name, stock_data in stocks.items():\n",
    "    first_adj_close = stock_data.iloc[0]['Adj Close']\n",
    "    stock_data['Normalized Return'] = stock_data['Adj Close']/first_adj_close"
   ]
  },
  {
   "cell_type": "code",
   "execution_count": 9,
   "id": "a0ae4ce2",
   "metadata": {},
   "outputs": [
    {
     "data": {
      "text/html": [
       "<div>\n",
       "<style scoped>\n",
       "    .dataframe tbody tr th:only-of-type {\n",
       "        vertical-align: middle;\n",
       "    }\n",
       "\n",
       "    .dataframe tbody tr th {\n",
       "        vertical-align: top;\n",
       "    }\n",
       "\n",
       "    .dataframe thead th {\n",
       "        text-align: right;\n",
       "    }\n",
       "</style>\n",
       "<table border=\"1\" class=\"dataframe\">\n",
       "  <thead>\n",
       "    <tr style=\"text-align: right;\">\n",
       "      <th></th>\n",
       "      <th>Adj Close</th>\n",
       "      <th>Normalized Return</th>\n",
       "    </tr>\n",
       "    <tr>\n",
       "      <th>Date</th>\n",
       "      <th></th>\n",
       "      <th></th>\n",
       "    </tr>\n",
       "  </thead>\n",
       "  <tbody>\n",
       "    <tr>\n",
       "      <th>2019-01-02</th>\n",
       "      <td>38.168354</td>\n",
       "      <td>1.000000</td>\n",
       "    </tr>\n",
       "    <tr>\n",
       "      <th>2019-01-03</th>\n",
       "      <td>34.366501</td>\n",
       "      <td>0.900393</td>\n",
       "    </tr>\n",
       "    <tr>\n",
       "      <th>2019-01-04</th>\n",
       "      <td>35.833580</td>\n",
       "      <td>0.938830</td>\n",
       "    </tr>\n",
       "    <tr>\n",
       "      <th>2019-01-07</th>\n",
       "      <td>35.753822</td>\n",
       "      <td>0.936740</td>\n",
       "    </tr>\n",
       "    <tr>\n",
       "      <th>2019-01-08</th>\n",
       "      <td>36.435406</td>\n",
       "      <td>0.954597</td>\n",
       "    </tr>\n",
       "  </tbody>\n",
       "</table>\n",
       "</div>"
      ],
      "text/plain": [
       "            Adj Close  Normalized Return\n",
       "Date                                    \n",
       "2019-01-02  38.168354           1.000000\n",
       "2019-01-03  34.366501           0.900393\n",
       "2019-01-04  35.833580           0.938830\n",
       "2019-01-07  35.753822           0.936740\n",
       "2019-01-08  36.435406           0.954597"
      ]
     },
     "execution_count": 9,
     "metadata": {},
     "output_type": "execute_result"
    }
   ],
   "source": [
    "stocks['AAPL'].head()"
   ]
  },
  {
   "cell_type": "code",
   "execution_count": 10,
   "id": "6784027d",
   "metadata": {},
   "outputs": [],
   "source": [
    "for stock_name, stock_data in stocks.items():\n",
    "    stock_data['Allocation'] = stock_data['Normalized Return'] * 0.25\n",
    "    \n",
    "# We are multiplying by 0.25 because we have four stocks in our portfolio"
   ]
  },
  {
   "cell_type": "code",
   "execution_count": 11,
   "id": "59250d61",
   "metadata": {},
   "outputs": [
    {
     "data": {
      "text/html": [
       "<div>\n",
       "<style scoped>\n",
       "    .dataframe tbody tr th:only-of-type {\n",
       "        vertical-align: middle;\n",
       "    }\n",
       "\n",
       "    .dataframe tbody tr th {\n",
       "        vertical-align: top;\n",
       "    }\n",
       "\n",
       "    .dataframe thead th {\n",
       "        text-align: right;\n",
       "    }\n",
       "</style>\n",
       "<table border=\"1\" class=\"dataframe\">\n",
       "  <thead>\n",
       "    <tr style=\"text-align: right;\">\n",
       "      <th></th>\n",
       "      <th>Adj Close</th>\n",
       "      <th>Normalized Return</th>\n",
       "      <th>Allocation</th>\n",
       "    </tr>\n",
       "    <tr>\n",
       "      <th>Date</th>\n",
       "      <th></th>\n",
       "      <th></th>\n",
       "      <th></th>\n",
       "    </tr>\n",
       "  </thead>\n",
       "  <tbody>\n",
       "    <tr>\n",
       "      <th>2019-01-02</th>\n",
       "      <td>97.147690</td>\n",
       "      <td>1.000000</td>\n",
       "      <td>0.250000</td>\n",
       "    </tr>\n",
       "    <tr>\n",
       "      <th>2019-01-03</th>\n",
       "      <td>93.573837</td>\n",
       "      <td>0.963212</td>\n",
       "      <td>0.240803</td>\n",
       "    </tr>\n",
       "    <tr>\n",
       "      <th>2019-01-04</th>\n",
       "      <td>97.925896</td>\n",
       "      <td>1.008011</td>\n",
       "      <td>0.252003</td>\n",
       "    </tr>\n",
       "    <tr>\n",
       "      <th>2019-01-07</th>\n",
       "      <td>98.050781</td>\n",
       "      <td>1.009296</td>\n",
       "      <td>0.252324</td>\n",
       "    </tr>\n",
       "    <tr>\n",
       "      <th>2019-01-08</th>\n",
       "      <td>98.761719</td>\n",
       "      <td>1.016614</td>\n",
       "      <td>0.254154</td>\n",
       "    </tr>\n",
       "  </tbody>\n",
       "</table>\n",
       "</div>"
      ],
      "text/plain": [
       "            Adj Close  Normalized Return  Allocation\n",
       "Date                                                \n",
       "2019-01-02  97.147690           1.000000    0.250000\n",
       "2019-01-03  93.573837           0.963212    0.240803\n",
       "2019-01-04  97.925896           1.008011    0.252003\n",
       "2019-01-07  98.050781           1.009296    0.252324\n",
       "2019-01-08  98.761719           1.016614    0.254154"
      ]
     },
     "execution_count": 11,
     "metadata": {},
     "output_type": "execute_result"
    }
   ],
   "source": [
    "stocks['MSFT'].head()"
   ]
  },
  {
   "cell_type": "code",
   "execution_count": 12,
   "id": "8a605d85",
   "metadata": {},
   "outputs": [],
   "source": [
    "# Create allocation for each stock - equally weighted in our initial portfolio\n",
    "for stock_name, stock_data in stocks.items():\n",
    "    stock_data['Position Value'] = stock_data['Allocation'] * 10000"
   ]
  },
  {
   "cell_type": "code",
   "execution_count": 13,
   "id": "c89341de",
   "metadata": {},
   "outputs": [
    {
     "data": {
      "text/html": [
       "<div>\n",
       "<style scoped>\n",
       "    .dataframe tbody tr th:only-of-type {\n",
       "        vertical-align: middle;\n",
       "    }\n",
       "\n",
       "    .dataframe tbody tr th {\n",
       "        vertical-align: top;\n",
       "    }\n",
       "\n",
       "    .dataframe thead th {\n",
       "        text-align: right;\n",
       "    }\n",
       "</style>\n",
       "<table border=\"1\" class=\"dataframe\">\n",
       "  <thead>\n",
       "    <tr style=\"text-align: right;\">\n",
       "      <th></th>\n",
       "      <th>Adj Close</th>\n",
       "      <th>Normalized Return</th>\n",
       "      <th>Allocation</th>\n",
       "      <th>Position Value</th>\n",
       "    </tr>\n",
       "    <tr>\n",
       "      <th>Date</th>\n",
       "      <th></th>\n",
       "      <th></th>\n",
       "      <th></th>\n",
       "      <th></th>\n",
       "    </tr>\n",
       "  </thead>\n",
       "  <tbody>\n",
       "    <tr>\n",
       "      <th>2019-01-02</th>\n",
       "      <td>42.513569</td>\n",
       "      <td>1.000000</td>\n",
       "      <td>0.250000</td>\n",
       "      <td>2500.000000</td>\n",
       "    </tr>\n",
       "    <tr>\n",
       "      <th>2019-01-03</th>\n",
       "      <td>42.099903</td>\n",
       "      <td>0.990270</td>\n",
       "      <td>0.247567</td>\n",
       "      <td>2475.674486</td>\n",
       "    </tr>\n",
       "    <tr>\n",
       "      <th>2019-01-04</th>\n",
       "      <td>43.914398</td>\n",
       "      <td>1.032950</td>\n",
       "      <td>0.258238</td>\n",
       "      <td>2582.375425</td>\n",
       "    </tr>\n",
       "    <tr>\n",
       "      <th>2019-01-07</th>\n",
       "      <td>44.610111</td>\n",
       "      <td>1.049315</td>\n",
       "      <td>0.262329</td>\n",
       "      <td>2623.286660</td>\n",
       "    </tr>\n",
       "    <tr>\n",
       "      <th>2019-01-08</th>\n",
       "      <td>45.014378</td>\n",
       "      <td>1.058824</td>\n",
       "      <td>0.264706</td>\n",
       "      <td>2647.059444</td>\n",
       "    </tr>\n",
       "  </tbody>\n",
       "</table>\n",
       "</div>"
      ],
      "text/plain": [
       "            Adj Close  Normalized Return  Allocation  Position Value\n",
       "Date                                                                \n",
       "2019-01-02  42.513569           1.000000    0.250000     2500.000000\n",
       "2019-01-03  42.099903           0.990270    0.247567     2475.674486\n",
       "2019-01-04  43.914398           1.032950    0.258238     2582.375425\n",
       "2019-01-07  44.610111           1.049315    0.262329     2623.286660\n",
       "2019-01-08  45.014378           1.058824    0.264706     2647.059444"
      ]
     },
     "execution_count": 13,
     "metadata": {},
     "output_type": "execute_result"
    }
   ],
   "source": [
    "stocks['ORCL'].head()"
   ]
  },
  {
   "cell_type": "code",
   "execution_count": 16,
   "id": "4ad751db",
   "metadata": {},
   "outputs": [],
   "source": [
    "\n",
    "sns.set_style(\"whitegrid\")"
   ]
  },
  {
   "cell_type": "code",
   "execution_count": null,
   "id": "53c36f9d",
   "metadata": {},
   "outputs": [],
   "source": []
  },
  {
   "cell_type": "markdown",
   "id": "26d042b6",
   "metadata": {},
   "source": [
    "## Visualize the Portfolio Performance\n",
    "To visualize the performance of the portfolio, we can create two line charts that show the return of the portfolio, and the return of the individual stocks, over time. Let's build a new DataFrame that contains just the `position value` for each stock, as well as the total value for the portfolio. We can use this DataFrame to create the two visuals."
   ]
  },
  {
   "cell_type": "code",
   "execution_count": 19,
   "id": "fc9cadf3",
   "metadata": {},
   "outputs": [],
   "source": [
    "# Create position_values dictionary\n",
    "position_value = dict()\n",
    "\n",
    "for stock_name, stock_data in stocks.items():\n",
    "    position_value[stock_name] = stock_data['Position Value']"
   ]
  },
  {
   "cell_type": "code",
   "execution_count": 21,
   "id": "3a7ffce6",
   "metadata": {},
   "outputs": [],
   "source": [
    "# Convert the position_values dictionary to a DataFrame\n",
    "position_value = pd.DataFrame(data = position_value)\n",
    "\n",
    "position_value.head()"
   ]
  },
  {
   "cell_type": "code",
   "execution_count": 23,
   "id": "c778dba8",
   "metadata": {},
   "outputs": [],
   "source": [
    "# Add 'Total' column to position values, summing the other columns\n",
    "position_value['Total'] = position_value.sum(axis = 1)"
   ]
  },
  {
   "cell_type": "code",
   "execution_count": 24,
   "id": "9b2d20f8",
   "metadata": {},
   "outputs": [
    {
     "data": {
      "text/html": [
       "<div>\n",
       "<style scoped>\n",
       "    .dataframe tbody tr th:only-of-type {\n",
       "        vertical-align: middle;\n",
       "    }\n",
       "\n",
       "    .dataframe tbody tr th {\n",
       "        vertical-align: top;\n",
       "    }\n",
       "\n",
       "    .dataframe thead th {\n",
       "        text-align: right;\n",
       "    }\n",
       "</style>\n",
       "<table border=\"1\" class=\"dataframe\">\n",
       "  <thead>\n",
       "    <tr style=\"text-align: right;\">\n",
       "      <th></th>\n",
       "      <th>AMD</th>\n",
       "      <th>AAPL</th>\n",
       "      <th>MSFT</th>\n",
       "      <th>ORCL</th>\n",
       "      <th>Total</th>\n",
       "    </tr>\n",
       "    <tr>\n",
       "      <th>Date</th>\n",
       "      <th></th>\n",
       "      <th></th>\n",
       "      <th></th>\n",
       "      <th></th>\n",
       "      <th></th>\n",
       "    </tr>\n",
       "  </thead>\n",
       "  <tbody>\n",
       "    <tr>\n",
       "      <th>2019-01-02</th>\n",
       "      <td>2500.000000</td>\n",
       "      <td>2500.000000</td>\n",
       "      <td>2500.000000</td>\n",
       "      <td>2500.000000</td>\n",
       "      <td>10000.000000</td>\n",
       "    </tr>\n",
       "    <tr>\n",
       "      <th>2019-01-03</th>\n",
       "      <td>2263.674895</td>\n",
       "      <td>2250.981325</td>\n",
       "      <td>2408.030429</td>\n",
       "      <td>2475.674486</td>\n",
       "      <td>9398.361134</td>\n",
       "    </tr>\n",
       "    <tr>\n",
       "      <th>2019-01-04</th>\n",
       "      <td>2522.570377</td>\n",
       "      <td>2347.073965</td>\n",
       "      <td>2520.026361</td>\n",
       "      <td>2582.375425</td>\n",
       "      <td>9972.046127</td>\n",
       "    </tr>\n",
       "    <tr>\n",
       "      <th>2019-01-07</th>\n",
       "      <td>2731.014309</td>\n",
       "      <td>2341.849893</td>\n",
       "      <td>2523.240167</td>\n",
       "      <td>2623.286660</td>\n",
       "      <td>10219.391030</td>\n",
       "    </tr>\n",
       "    <tr>\n",
       "      <th>2019-01-08</th>\n",
       "      <td>2754.912385</td>\n",
       "      <td>2386.493121</td>\n",
       "      <td>2541.535443</td>\n",
       "      <td>2647.059444</td>\n",
       "      <td>10330.000392</td>\n",
       "    </tr>\n",
       "  </tbody>\n",
       "</table>\n",
       "</div>"
      ],
      "text/plain": [
       "                    AMD         AAPL         MSFT         ORCL         Total\n",
       "Date                                                                        \n",
       "2019-01-02  2500.000000  2500.000000  2500.000000  2500.000000  10000.000000\n",
       "2019-01-03  2263.674895  2250.981325  2408.030429  2475.674486   9398.361134\n",
       "2019-01-04  2522.570377  2347.073965  2520.026361  2582.375425   9972.046127\n",
       "2019-01-07  2731.014309  2341.849893  2523.240167  2623.286660  10219.391030\n",
       "2019-01-08  2754.912385  2386.493121  2541.535443  2647.059444  10330.000392"
      ]
     },
     "execution_count": 24,
     "metadata": {},
     "output_type": "execute_result"
    }
   ],
   "source": [
    "position_value.head()"
   ]
  },
  {
   "cell_type": "code",
   "execution_count": 28,
   "id": "dbee56dd",
   "metadata": {},
   "outputs": [
    {
     "data": {
      "image/png": "[encoded data removed]",
      "text/plain": [
       "<Figure size 864x576 with 1 Axes>"
      ]
     },
     "metadata": {},
     "output_type": "display_data"
    }
   ],
   "source": [
    "# View the total portfolio\n",
    "plt.figure(figsize = (12,8))\n",
    "plt.plot(position_value['Total'])\n",
    "plt.title('Equal-Weighted Portfolio')\n",
    "plt.ylabel('Total Value')\n",
    "plt.xlabel('Time');"
   ]
  },
  {
   "cell_type": "code",
   "execution_count": 36,
   "id": "8a4c4f02",
   "metadata": {},
   "outputs": [
    {
     "data": {
      "image/png": "[encoded data removed]",
      "text/plain": [
       "<Figure size 864x576 with 1 Axes>"
      ]
     },
     "metadata": {},
     "output_type": "display_data"
    }
   ],
   "source": [
    "# View the four stocks in the portfolio\n",
    "plt.figure(figsize = (12, 8))\n",
    "plt.plot(position_value.iloc[:,0:4])\n",
    "plt.title('Equal-Weighted stock performance')\n",
    "plt.ylabel('Stock value')\n",
    "plt.legend(['ORCL', 'MSFT', 'AAPL', 'AMD']);"
   ]
  },
  {
   "cell_type": "markdown",
   "id": "e79bf233",
   "metadata": {},
   "source": [
    "## Calculate Performance Metrics for the Portfolio\n",
    "Now that we have created and visualized the equal-weighted portfolio, we can calculate a few metrics to further measure the performance of the portfolio. We will create five performances metrics:\n",
    " * Cumulative Return\n",
    " * Mean Daily Return\n",
    " * Standard Deviation Daily Return\n",
    " * Sharpe Ratio\n",
    " * Annualized Sharpe Ratio"
   ]
  },
  {
   "cell_type": "code",
   "execution_count": 44,
   "id": "1005b5e3",
   "metadata": {},
   "outputs": [
    {
     "name": "stdout",
     "output_type": "stream",
     "text": [
      "3.4353424417864593\n"
     ]
    }
   ],
   "source": [
    "# Define the end and start value of the portfolio\n",
    "end_value = position_value['Total'][-1]\n",
    "start_value = position_value['Total'][0]\n",
    "\n",
    "# Calculate the cumulative portfolio return as a percentage\n",
    "cumulative_return = end_value/ start_value - 1\n",
    "\n",
    "print(cumulative_return)"
   ]
  },
  {
   "cell_type": "code",
   "execution_count": 46,
   "id": "aafd2d14",
   "metadata": {},
   "outputs": [
    {
     "data": {
      "text/html": [
       "<div>\n",
       "<style scoped>\n",
       "    .dataframe tbody tr th:only-of-type {\n",
       "        vertical-align: middle;\n",
       "    }\n",
       "\n",
       "    .dataframe tbody tr th {\n",
       "        vertical-align: top;\n",
       "    }\n",
       "\n",
       "    .dataframe thead th {\n",
       "        text-align: right;\n",
       "    }\n",
       "</style>\n",
       "<table border=\"1\" class=\"dataframe\">\n",
       "  <thead>\n",
       "    <tr style=\"text-align: right;\">\n",
       "      <th></th>\n",
       "      <th>AMD</th>\n",
       "      <th>AAPL</th>\n",
       "      <th>MSFT</th>\n",
       "      <th>ORCL</th>\n",
       "      <th>Total</th>\n",
       "      <th>Daily Returns</th>\n",
       "    </tr>\n",
       "    <tr>\n",
       "      <th>Date</th>\n",
       "      <th></th>\n",
       "      <th></th>\n",
       "      <th></th>\n",
       "      <th></th>\n",
       "      <th></th>\n",
       "      <th></th>\n",
       "    </tr>\n",
       "  </thead>\n",
       "  <tbody>\n",
       "    <tr>\n",
       "      <th>2019-01-02</th>\n",
       "      <td>2500.000000</td>\n",
       "      <td>2500.000000</td>\n",
       "      <td>2500.000000</td>\n",
       "      <td>2500.000000</td>\n",
       "      <td>10000.000000</td>\n",
       "      <td>NaN</td>\n",
       "    </tr>\n",
       "    <tr>\n",
       "      <th>2019-01-03</th>\n",
       "      <td>2263.674895</td>\n",
       "      <td>2250.981325</td>\n",
       "      <td>2408.030429</td>\n",
       "      <td>2475.674486</td>\n",
       "      <td>9398.361134</td>\n",
       "      <td>-0.060164</td>\n",
       "    </tr>\n",
       "    <tr>\n",
       "      <th>2019-01-04</th>\n",
       "      <td>2522.570377</td>\n",
       "      <td>2347.073965</td>\n",
       "      <td>2520.026361</td>\n",
       "      <td>2582.375425</td>\n",
       "      <td>9972.046127</td>\n",
       "      <td>0.061041</td>\n",
       "    </tr>\n",
       "    <tr>\n",
       "      <th>2019-01-07</th>\n",
       "      <td>2731.014309</td>\n",
       "      <td>2341.849893</td>\n",
       "      <td>2523.240167</td>\n",
       "      <td>2623.286660</td>\n",
       "      <td>10219.391030</td>\n",
       "      <td>0.024804</td>\n",
       "    </tr>\n",
       "    <tr>\n",
       "      <th>2019-01-08</th>\n",
       "      <td>2754.912385</td>\n",
       "      <td>2386.493121</td>\n",
       "      <td>2541.535443</td>\n",
       "      <td>2647.059444</td>\n",
       "      <td>10330.000392</td>\n",
       "      <td>0.010823</td>\n",
       "    </tr>\n",
       "  </tbody>\n",
       "</table>\n",
       "</div>"
      ],
      "text/plain": [
       "                    AMD         AAPL         MSFT         ORCL         Total  \\\n",
       "Date                                                                           \n",
       "2019-01-02  2500.000000  2500.000000  2500.000000  2500.000000  10000.000000   \n",
       "2019-01-03  2263.674895  2250.981325  2408.030429  2475.674486   9398.361134   \n",
       "2019-01-04  2522.570377  2347.073965  2520.026361  2582.375425   9972.046127   \n",
       "2019-01-07  2731.014309  2341.849893  2523.240167  2623.286660  10219.391030   \n",
       "2019-01-08  2754.912385  2386.493121  2541.535443  2647.059444  10330.000392   \n",
       "\n",
       "            Daily Returns  \n",
       "Date                       \n",
       "2019-01-02            NaN  \n",
       "2019-01-03      -0.060164  \n",
       "2019-01-04       0.061041  \n",
       "2019-01-07       0.024804  \n",
       "2019-01-08       0.010823  "
      ]
     },
     "execution_count": 46,
     "metadata": {},
     "output_type": "execute_result"
    }
   ],
   "source": [
    "# Create a 'Daily Returns' column\n",
    "position_value['Daily Returns'] = position_value['Total'].pct_change()\n",
    "\n",
    "position_value.head()"
   ]
  },
  {
   "cell_type": "code",
   "execution_count": 49,
   "id": "5879e065",
   "metadata": {},
   "outputs": [
    {
     "name": "stdout",
     "output_type": "stream",
     "text": [
      "The mean daily return is: 0.0021856508683060403\n"
     ]
    }
   ],
   "source": [
    "# Calculate the mean Daily Return \n",
    "mean_daily_return = position_value['Daily Returns'].mean()\n",
    "\n",
    "print('The mean daily return is:', mean_daily_return)"
   ]
  },
  {
   "cell_type": "code",
   "execution_count": 52,
   "id": "1138fc75",
   "metadata": {},
   "outputs": [
    {
     "name": "stdout",
     "output_type": "stream",
     "text": [
      "The std daily return is:  0.020667540612412324\n"
     ]
    }
   ],
   "source": [
    "# Calculate the standard deviation of Daily Return \n",
    "\n",
    "stdev_daily_return = position_value['Daily Returns'].std()\n",
    "\n",
    "print('The std daily return is: ',stdev_daily_return)"
   ]
  },
  {
   "cell_type": "markdown",
   "id": "f5ac9439",
   "metadata": {},
   "source": [
    "### Sharpe Ratio\n",
    "Now, let's explore a risk-adjusted return metric called the sharpe ratio. The sharpe ratio helps us to quantify how much return we are getting for a given level of risk. When comparing two different investments, the asset with the higher sharpe ratio provides a higher return for the same amount of risk or the same return for a lower amount of risk. \n",
    "\n",
    "It is calculated by taking the average return of the portfolio, minus a risk free rate (such as government bonds), divided by the standard deviation of the return. In this case, we assume the risk-free rate is close 0 so we won't add it to the formula."
   ]
  },
  {
   "cell_type": "code",
   "execution_count": null,
   "id": "3693e3dd",
   "metadata": {},
   "outputs": [],
   "source": [
    "# Calculate the sharpe ratio\n"
   ]
  },
  {
   "cell_type": "code",
   "execution_count": null,
   "id": "ae5bb80b",
   "metadata": {},
   "outputs": [],
   "source": [
    "# Calculate the annualized sharpe ratio\n"
   ]
  },
  {
   "cell_type": "markdown",
   "id": "de803160",
   "metadata": {},
   "source": [
    "## Prepare Scenarios to Optimize Portfolio Weighting\n",
    "We need to prepare our data ahead of generating our scenarios to optimize the portfolio weighting. We will:\n",
    " * Create a dictionary containing the adjusted close for each of our stocks: stock_adj_close\n",
    " * Create another dictionary that transforms the adjusted close for each day to a percent change from the previous day"
   ]
  },
  {
   "cell_type": "code",
   "execution_count": null,
   "id": "434b0dcd",
   "metadata": {},
   "outputs": [],
   "source": [
    "# Create stock_adj_close dictionary\n"
   ]
  },
  {
   "cell_type": "code",
   "execution_count": null,
   "id": "0ffa9762",
   "metadata": {},
   "outputs": [],
   "source": []
  },
  {
   "cell_type": "code",
   "execution_count": null,
   "id": "95bf6803",
   "metadata": {},
   "outputs": [],
   "source": [
    "# Create stock_returns DataFrames to see the day over day change in stock value\n"
   ]
  },
  {
   "cell_type": "markdown",
   "id": "ce3c7f1a",
   "metadata": {},
   "source": [
    "## Build & Run 10,000 Portfolio Scenarios\n",
    "Now that we've prepared our data, we're almost ready to run our scenarios. First, we need to build the structures required to generate these scenarios and store the output. To do this, we will use the `numpy.zeros()` function. \n",
    "\n",
    "This function creates arrays that are filled with zeros. After we run the scenarios, we replace these zeros with the corresponding output. The reason we create the arrays with zeros first is to give our arrays the correct shape before we replace them with the correct values.\n",
    "\n",
    "We will create four different arrays:\n",
    " * weights_array - this array will have 10,000 rows and 4 columns and hold the weighting allocation for each stock\n",
    " * returns_array - this array will contain the portfolio return for each scenario\n",
    " * volatility_array - this array will contain the portfolio volatility for each scenario\n",
    " * sharpe_array - this array will contain the sharpe ratio for each scenario"
   ]
  },
  {
   "cell_type": "code",
   "execution_count": null,
   "id": "26aae2af",
   "metadata": {},
   "outputs": [],
   "source": [
    "# Define the number of scenarios and create a blank array to populate stock weightings for each scenario\n"
   ]
  },
  {
   "cell_type": "code",
   "execution_count": null,
   "id": "5245589e",
   "metadata": {},
   "outputs": [],
   "source": [
    "# Create additional blank arrays for scenario output\n"
   ]
  },
  {
   "cell_type": "code",
   "execution_count": null,
   "id": "1815480a",
   "metadata": {},
   "outputs": [],
   "source": [
    "# Import the random package and set the seeds\n",
    "\n",
    "\n",
    "# Generate four random numbers for each index\n",
    "\n",
    "\n",
    "# Divide each number by the sum of the numbers to generate the random weight\n",
    "\n",
    "\n",
    "# Save the weights in weights_array\n",
    "\n",
    "    \n",
    "# Calculate the return for each scenario\n",
    "\n",
    "    \n",
    "# Calculate the expected volatility for each scenario\n",
    "\n",
    "    \n",
    "# Calculate the Sharpe Ratio for each scenario \n"
   ]
  },
  {
   "cell_type": "code",
   "execution_count": null,
   "id": "119d847f",
   "metadata": {},
   "outputs": [],
   "source": [
    "print(\"The first combination:\")"
   ]
  },
  {
   "cell_type": "code",
   "execution_count": null,
   "id": "ccd573c2",
   "metadata": {},
   "outputs": [],
   "source": [
    "print(\"The sharpe ratio of the first portfolio:\")"
   ]
  },
  {
   "cell_type": "markdown",
   "id": "47e6455a",
   "metadata": {},
   "source": [
    "## Identify the Optimal Portfolio\n",
    "Now that we have the output for all 10,000 scenarios, we can identify the optimal portfolio. The optimal portfolio in this case study is the portfolio that has the highest sharpe ratio."
   ]
  },
  {
   "cell_type": "code",
   "execution_count": null,
   "id": "54a088bd",
   "metadata": {},
   "outputs": [],
   "source": [
    "# Find the highest sharpe ratio in sharpe_array\n"
   ]
  },
  {
   "cell_type": "code",
   "execution_count": null,
   "id": "f5d73de5",
   "metadata": {},
   "outputs": [],
   "source": [
    "# Find the index of the optimal portfolio\n"
   ]
  },
  {
   "cell_type": "code",
   "execution_count": null,
   "id": "0cb85e68",
   "metadata": {},
   "outputs": [],
   "source": [
    "# Print the optimal weights for each stock\n"
   ]
  },
  {
   "cell_type": "markdown",
   "id": "a26b16aa",
   "metadata": {},
   "source": [
    "## Visualize the Optimal Portfolio & Portfolio Scenarios\n",
    "Let's visualize our portfolio scenarios by using a scatter chart. We can use the volatility and returns arrays on each axis to see the relationship between risk and reward. As a final step, we can visualize where the optimal portfolio appears among all of the scenarios."
   ]
  },
  {
   "cell_type": "code",
   "execution_count": null,
   "id": "d02af92e",
   "metadata": {},
   "outputs": [],
   "source": [
    "# Visualize volatility vs returns for each scenario\n"
   ]
  },
  {
   "cell_type": "code",
   "execution_count": null,
   "id": "401ebb80",
   "metadata": {},
   "outputs": [],
   "source": [
    "# Identify the optimal portfolio in the returns and volatility arrays\n",
    "\n",
    "\n",
    "# Visualize volatility vs returns for each scenario\n",
    "\n",
    "\n",
    "# Add the optimal portfolio to the visual\n"
   ]
  }
 ],
 "metadata": {
  "kernelspec": {
   "display_name": "Python 3 (ipykernel)",
   "language": "python",
   "name": "python3"
  },
  "language_info": {
   "codemirror_mode": {
    "name": "ipython",
    "version": 3
   },
   "file_extension": ".py",
   "mimetype": "text/x-python",
   "name": "python",
   "nbconvert_exporter": "python",
   "pygments_lexer": "ipython3",
   "version": "3.9.12"
  }
 },
 "nbformat": 4,
 "nbformat_minor": 5
}
